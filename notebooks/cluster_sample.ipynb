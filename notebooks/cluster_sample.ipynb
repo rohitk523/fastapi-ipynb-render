{
 "cells": [
  {
   "cell_type": "code",
   "execution_count": null,
   "metadata": {},
   "outputs": [],
   "source": [
    "# In your notebook\n",
    "def your_function():\n",
    "    return \"Hello from converted notebook!\"\n"
   ]
  },
  {
   "cell_type": "code",
   "execution_count": null,
   "metadata": {},
   "outputs": [],
   "source": [
    "def process_data(numbers):\n",
    "    # Example processing\n",
    "    return sum(numbers)"
   ]
  }
 ],
 "metadata": {
  "language_info": {
   "name": "python"
  },
  "orig_nbformat": 4
 },
 "nbformat": 4,
 "nbformat_minor": 2
}
